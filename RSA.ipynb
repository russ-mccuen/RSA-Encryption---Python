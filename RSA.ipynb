{
 "cells": [
  {
   "cell_type": "markdown",
   "metadata": {},
   "source": [
    "## RSA - The Project"
   ]
  },
  {
   "cell_type": "markdown",
   "metadata": {},
   "source": [
    "Name:  b0k0n0n\n",
    "\n",
    
    "* A Jupyter Notebook is an interactive document - not a long scroll of code and commments."
   ]
  },
  {
   "cell_type": "markdown",
   "metadata": {},
   "source": [
    "<hr />\n",
    "\n",
    "# Table of Contents\n",
    "\n",
    "### 1. Introduction  (5 points)\n",
    "\n",
    "### 2. RSA Code Package    (10 points)\n",
    "###### &nbsp;&nbsp;&nbsp;&nbsp;&nbsp;&nbsp; 2.1 Basic tool set\n",
    "###### &nbsp;&nbsp;&nbsp;&nbsp;&nbsp;&nbsp; 2.2 First tool set\n",
    "###### &nbsp;&nbsp;&nbsp;&nbsp;&nbsp;&nbsp; 2.3 Second tool set\n",
    "\n",
    "### 3. RSA More Code  (10 points)\n",
    "\n",
    "###### &nbsp;&nbsp;&nbsp;&nbsp;&nbsp;&nbsp;  Encode\n",
    "###### &nbsp;&nbsp;&nbsp;&nbsp;&nbsp;&nbsp;  Decode\n",
    "\n",
    "### 4. Show a demo of encoding and decoding a message that highlights how your code works and the steps involved.   (20points)\n",
    "\n",
    "### 5. Project Narrative AND results of exchanging codes with others.  (20 points)\n",
    "\n",
    "### 6. Testing and comparing FME to mod.       (10 points)\n",
    "\n",
    "### Points for 7 - 10 only available if the student is exchanging messages by the Friday (midnight) before the project is due.\n",
    "\n",
    "### 7. Breaking codes without a private key    (10 points)\n",
    "\n",
    "### 8/9/10 Advanced options (15 points) Needed to get 100%.\n",
    "\n",
    "\n",
    "\n",
    "\n",
    "\n",
    "\n",
    "\n",
    "\n"
   ]
  },
  {
   "cell_type": "markdown",
   "metadata": {},
   "source": []
  },
  {
   "cell_type": "markdown",
   "metadata": {},
   "source": []
  },
  {
   "cell_type": "markdown",
   "metadata": {},
   "source": []
  },
  {
   "cell_type": "markdown",
   "metadata": {},
   "source": [
    "\n",
    "\n",
    "\n",
    "\n",
    "\n"
   ]
  },
  {
   "cell_type": "markdown",
   "metadata": {},
   "source": [
    "\n",
    "\n",
    "\n",
    "\n",
    "\n",
    "\n",
    "### 1. Introduction to your RSA Package and Project.  Give an overview of your project and what you have learned. "
   ]
  },
  {
   "cell_type": "markdown",
   "metadata": {},
   "source": [
    "Public key encryption allows people to send and receive information in public with little chance anyone who intercepts that information will be able to decipher it. This is done through the use of 'keys' which are used to encode and decode the information being sent. One type of encryption is RSA encryption (an acronym based on the last names of those who developed the public version of it: Ron Rivest, Adi Shamir, and Leonard Adleman), which uses two public keys, known as n and e, and a private key, known as d, to transmit encrypted information. Using the public and private keys, senders and receivers are able to encode and decode this information, while the encrypted information will be hard for anyone who intercepts it to unlock.\n",
    "\n",
    "What follows is code in Python that will allow us to fully implement a basic version of RSA. Before each block of code will be a brief paragraph explaining what that section of code does, and the code itself will have comments within it to help the reader understand how it functions.\n"
   ]
  },
  {
   "cell_type": "markdown",
   "metadata": {},
   "source": [
    "### 2.1\n",
    "#### Basic tool set\n",
    "\n",
    "These are functions that you'll need to pre-process the messages before the messages are encoded and decoded by the RSA algorithm. That is the reason we will be defining them first.\n",
    "\n"
   ]
  },
  {
   "cell_type": "markdown",
   "metadata": {},
   "source": [
    "This first block will be used in the extra section. The random library allows a line of code to pick numbers in a manner than is close to random. (If one were actually involved in cybersecurity, one would not use random, one would use the secrets module described here, https://docs.python.org/3/library/secrets.html#module-secrets .) The prime_lst is a list of all prime numbers between 1 and 100, and prime_1 and prime_2 will carry the values of two primes chosen at close to random."
   ]
  },
  {
   "cell_type": "code",
   "execution_count": null,
   "metadata": {},
   "outputs": [],
   "source": [
    "#We'll use this later on in the extra section!!!!!\n",
    "import random\n",
    "prime_lst = [2, 3, 5, 7, 11, 13, 17, 19, 23, 29, 31, 37, 41, 43, 47, 53, 59, 61, 67, 71, 73, 79, 83, 89, 97]    #primes between 2 - 100\n",
    "prime_1 = random.choice(prime_lst)                                                                              #random prime\n",
    "prime_2 = random.choice(prime_lst)                                                                              #random prime"
   ]
  },
  {
   "cell_type": "markdown",
   "metadata": {},
   "source": [
    "The function Convert_Text will take a string of words, take each separate character in each word, including spaces and punctuation, convert each character to its ASCII value, and return a list of those values. This will be used as part of the process that encodes messages."
   ]
  },
  {
   "cell_type": "code",
   "execution_count": 2,
   "metadata": {},
   "outputs": [],
   "source": [
    "def Convert_Text(_string):\n",
    "    \"\"\"\n",
    "    Define this function such that it takes in a simple \n",
    "    string such as \"hello\" and outputs the corresponding\n",
    "    standard list of integers (ascii) for each letter in the word hello.\n",
    "    For example:\n",
    "    _string = hello\n",
    "    integer_list = [104, 101, 108, 108, 111]\n",
    "    \"\"\"\n",
    "    integer_list = []                   #stores conversion of characters to ascii values\n",
    "    for char in _string:\n",
    "    #iterates through each character in the string and converts it to ascii value\n",
    "        integer_list.append(ord(char))\n",
    "    return integer_list"
   ]
  },
  {
   "cell_type": "markdown",
   "metadata": {},
   "source": [
    "The function Convert_Num will take a list of numbers (ASCII values) and convert them into there respective characters, generating a string. This will be used as part of the process that decodes messages."
   ]
  },
  {
   "cell_type": "code",
   "execution_count": 3,
   "metadata": {},
   "outputs": [],
   "source": [
    "def Convert_Num(_list):\n",
    "    \"\"\"\n",
    "    Do the opposite of what you did in the Convert_Text\n",
    "    function defined above.\n",
    "    \n",
    "    Define this function such that it takes in a list of integers\n",
    "    and outputs the corresponding string (ascii).\n",
    "    \n",
    "    For example:\n",
    "    _list = [104, 101, 108, 108, 111]\n",
    "    _string = hello\n",
    "    \"\"\"\n",
    "    _string = ''                        #empty string that will store converted numbers\n",
    "    for i in _list:\n",
    "    #iterates through numbers in list and converts them to appropriate character\n",
    "        _string += chr(i)\n",
    "    return _string"
   ]
  },
  {
   "cell_type": "markdown",
   "metadata": {},
   "source": [
    "The Convert_Binary_String function takes an integer and converts it into its binary expansion. For example, the number 4 in binary is 0100. For more on binary, see here https://en.wikipedia.org/wiki/Binary_number."
   ]
  },
  {
   "cell_type": "code",
   "execution_count": 4,
   "metadata": {},
   "outputs": [],
   "source": [
    "def Convert_Binary_String(_int):\n",
    "    \"\"\"\n",
    "    Here, you need to define a function that converts an integer to\n",
    "    a string of its binary expansion.\n",
    "    \n",
    "    For example:\n",
    "    _int = 345\n",
    "    bits = 101011001\n",
    "    \"\"\"\n",
    "    bits = bin(int)[2:]                 #converts integer value to binary value\n",
    "    return bits"
   ]
  },
  {
   "cell_type": "markdown",
   "metadata": {},
   "source": [
    "Now that you're done with the basic toolset we'll move on to the first tool set which is actually involved in the RSA system."
   ]
  },
  {
   "cell_type": "markdown",
   "metadata": {},
   "source": [
    "### 2.2 \n",
    "#### First tool set.\n",
    "\n"
   ]
  },
  {
   "cell_type": "markdown",
   "metadata": {},
   "source": [
    "FME stands for fast modular exponentiation. This function calculates the remainder when a number raised to a certain power is modular divided by another number. It is necessary to calculate this remainder by means other than brute force mathematics, because exponents in RSA are very large. This makes the time necessary to perform the calculations very time intensive if done is a manner of (x ^ i) % y, which would result in an inefficient means of encryption. Further explanation of the benefits of FME section, Section 6, below."
   ]
  },
  {
   "cell_type": "code",
   "execution_count": 5,
   "metadata": {},
   "outputs": [],
   "source": [
    "def FME(b, n, m):\n",
    "    \"\"\"\n",
    "    Fast modular exponentiation function, taking as inputs:\n",
    "    a = integer\n",
    "    n = power to which a is being raised\n",
    "    b = modulus dividing a\n",
    "    Function calculates the remainder when a raised to the power n\n",
    "    is modular divided by b.\n",
    "    \"\"\"\n",
    "    result = 1                               #answer that will be returned\n",
    "    square = b                               #a will be repeatedly squared, mod b\n",
    "    while(n>0):\n",
    "    #while loop that continues as long as n, the exponent, is greater than 0\n",
    "    #loop converts n to binary\n",
    "        k = n%2                              #extracts least significant bit\n",
    "        if k == 1:                           #when k = 1, the loop is in its final iteration\n",
    "            result = (result * square) % m\n",
    "        square = (square * square) % m       #calculation that continues until k = 1\n",
    "        n = n // 2                           #finds next largest binary exponent to continue loop\n",
    "    return result                            #the answer to a^n mod b"
   ]
  },
  {
   "cell_type": "markdown",
   "metadata": {},
   "source": [
    "The Euclidean_Algorithm function calculates the greatest common divisor (gcd) of two numbers. This function will be used in creating the public and private keysnecessary for encryption and decryption."
   ]
  },
  {
   "cell_type": "code",
   "execution_count": 6,
   "metadata": {},
   "outputs": [],
   "source": [
    "def Euclidean_Algorithm(a,b):\n",
    "    \"\"\"\n",
    "    finds the greatest common divisor of a and b\n",
    "    \"\"\"\n",
    "    while a != 0:\n",
    "    #while loop to find gcd; will iterate until b%a == 0, at which point gcd is found\n",
    "        gcd = a\n",
    "        a = b%a\n",
    "        b = gcd\n",
    "    return b                                 #gcd"
   ]
  },
  {
   "cell_type": "markdown",
   "metadata": {},
   "source": [
    "### 2.3\n",
    "#### Second tool set\n",
    "\n",
    "Here we will implement the meat of the RSA cryptosystem. The functions below will generate the public and private key pairs which will then be used to create a ciphertext using the public key and then decode the same using the pirvate key.\n",
    "\n"
   ]
  },
  {
   "cell_type": "markdown",
   "metadata": {},
   "source": [
    "The Find_Public_Key_e function will take two relatively prime numbers, p and q, and use them to calculate the public key e. This is accomplished by calling the Euclidean_Algorithm function above."
   ]
  },
  {
   "cell_type": "code",
   "execution_count": 7,
   "metadata": {},
   "outputs": [],
   "source": [
    "def Find_Public_Key_e(p, q):\n",
    "    \"\"\"\n",
    "    Takes 2 primes p and q, uses the Euclidean Algorithm to find their gcd.\n",
    "    Returns public key: n and public key: e. \n",
    "    \"\"\"\n",
    "    n = p*q                                  #public key n\n",
    "    phi_n = (p-1)*(q-1)                      #phi-n, needed to compute e\n",
    "    e = 0\n",
    "    for e in range (2, phi_n):\n",
    "    #loop to find e such that e is relatively prime to (p - 1) (q - 1) and not equal to p or q.\n",
    "        if(Euclidean_Algorithm(e, phi_n)) == 1 and Euclidean_Algorithm(e, phi_n) != p and Euclidean_Algorithm(e, phi_n) != q:\n",
    "            return n, e\n",
    "    \n",
    "    "
   ]
  },
  {
   "cell_type": "markdown",
   "metadata": {},
   "source": [
    "The Find_Private_Key_d function takes three inputs, p and q from before, and the public key e that we found in the function above. Using these inputs and the Extended Euclidean Algorithm, this function returns the private key d. The Extended Euclidean Algorithm is used to find the modular inverse of e, which is the key d. After finding both e and d, all the tools needed to encrypt and decrypt messages will have been calculated."
   ]
  },
  {
   "cell_type": "code",
   "execution_count": 8,
   "metadata": {},
   "outputs": [],
   "source": [
    "def Find_Private_Key_d(e, p, q):\n",
    "    \"\"\"\n",
    "    Finds the decryption exponent d such that d is the modular inverse of e. \n",
    "    Uses the Extended Euclidean Algorithm (explained below) to find e.\n",
    "    \n",
    "    Returns d: the decryption component.\n",
    "    \"\"\"\n",
    "    (s1, t1) = (1,0)\n",
    "    (s2,t2) = (0,1)                                #shows how current values of m,n written as linear combination of original values\n",
    "    phi_n = (p-1)*(q-1)                            #calulates phi-n, which is needed to find modular inverse of e\n",
    "    p, q = e, phi_n                          \n",
    "\n",
    "    while q > 0:\n",
    "    #while loop that executes until the value of n is no longer greater than 0\n",
    "    #finds GCD and BC using the Extended Euclidean Algorithm\n",
    "    #continuousy updates the values of m and n in order to find GCD and BC\n",
    "    #mods final value by phi-n to obtain result and ensure result is positive\n",
    "        k = p%q\n",
    "        quo = p//q\n",
    "        p=q\n",
    "        q=k\n",
    "        (s1h, t1h) = (s2, t2)                       #s1h = s1hat, etc, from Sriram's video, necessary to get correct\n",
    "        (s2h, t2h) = (s1 - quo*s2, t1 - quo*t2)     #values associated with (s1, t1) and (s2, t2) in order\n",
    "        (s1, t1) = (s1h, t1h)                       #to find GCD and BC; (s1 - q*s2, t1 - q*t2) --> computes\n",
    "        (s2, t2) = (s2h, t2h)                       #new value for (s2, t2) using quotient from above\n",
    "    return s1 % phi_n"
   ]
  },
  {
   "cell_type": "markdown",
   "metadata": {},
   "source": [
    "### 3.\n",
    "#### Putting things all together.\n",
    "\n",
    "1. In this part, you will define two functions `Encode` and `Decode` which will use the public and private keys that you calculated using the above 2 functions in the second toolset.\n",
    "2. Using the public key, the `Encode` function will encode a message and generate the corresponding cipher_text.\n",
    "3. Using the private key, the `Decode` function will decode a ciper_text and recover the original message.\n",
    "\n"
   ]
  },
  {
   "cell_type": "markdown",
   "metadata": {},
   "source": [
    "The Encode function takes the message a user wants to send, along with n (the product of p * q), and the key e found above to encrypt the message. The message will be encrpyted using the Convert_Text function described above, as well as the FME function to return a list of numbers representing the characters that have been encrypted. An example of one of these lists can be seen in section 4 below."
   ]
  },
  {
   "cell_type": "code",
   "execution_count": 9,
   "metadata": {},
   "outputs": [],
   "source": [
    "def Encode(n, e, message):\n",
    "    \"\"\"\n",
    "    Takes a string of characters, uses the function Convert_Text to convert\n",
    "    characters into a list of numbers.\n",
    "    \n",
    "    Encodes each of those numbers using n and e and returns the encoded cipher_text.\n",
    "    \"\"\"\n",
    "    cipher_text=[]\n",
    "    num_list = Convert_Text(message)\n",
    "    for item in num_list:\n",
    "    #iterates through list of characters and converts them to numbers\n",
    "        item = FME(item, e, n)\n",
    "        cipher_text.append(item)\n",
    "    return cipher_text"
   ]
  },
  {
   "cell_type": "markdown",
   "metadata": {},
   "source": [
    "The Decode function takes the message received, written as a series of encoded numbers, and decodes it using the value n, the private key d, the FME function, and the Convert_Num functions described above. The result will be the actual message that was written before being encrypted by the sender."
   ]
  },
  {
   "cell_type": "code",
   "execution_count": 10,
   "metadata": {},
   "outputs": [],
   "source": [
    "def Decode(n, d, cipher_text):\n",
    "    \"\"\"\n",
    "    Takes cipher_text, a list of integers, and decrypts each of those integers using n and d.\n",
    "    Uses the function Convert_Num, that converts the integers to a string, to return the original message as a string. \n",
    "    \"\"\"\n",
    "    new_list = []\n",
    "    for item in cipher_text:\n",
    "    #iterates through a list of numbers and converts them to characters\n",
    "        item = FME(item, d, n)\n",
    "        new_list.append(item)\n",
    "    return(Convert_Num(new_list))"
   ]
  },
  {
   "cell_type": "markdown",
   "metadata": {},
   "source": [
    "### 4.  Demonstrate how your RSA works below using a mix of text and code blocks that make it clear to the reader how this works and why you chose to put it together the way you did:\n",
    "\n",
    "* This is a step by step guide to using your code with a specific example that I can follow.\n",
    "\n",
    "* Encode a message (including generating keys).\n",
    "\n",
    "* Publish your public key and message to Piazza.\n",
    "\n",
    "* Decode messages from Piazza.\n",
    "\n",
    "* Test!\n",
    "\n",
    "\n",
    "\n"
   ]
  },
  {
   "cell_type": "markdown",
   "metadata": {},
   "source": [
    "Now that we know what RSA is, and we've gone through the code that will make it work, here is an example of the entire process in action.\n",
    "\n",
    "Step 1: pick p and q. Using the prime factor list from above, we'll choose the numbers 59 and 83."
   ]
  },
  {
   "cell_type": "code",
   "execution_count": 22,
   "metadata": {},
   "outputs": [],
   "source": [
    "p, q = 59, 83"
   ]
  },
  {
   "cell_type": "markdown",
   "metadata": {},
   "source": [
    "Next, test to make sure the numbers are relatively prime using the Euclidean_Algorithm function. If the result is 1, the numbers are relatively prime."
   ]
  },
  {
   "cell_type": "code",
   "execution_count": 23,
   "metadata": {},
   "outputs": [
    {
     "name": "stdout",
     "output_type": "stream",
     "text": [
      "1\n"
     ]
    }
   ],
   "source": [
    "print(Euclidean_Algorithm(p, q))"
   ]
  },
  {
   "cell_type": "markdown",
   "metadata": {},
   "source": [
    "Since the numbers are relatively prime, the next step is to find n and our public key e using the Find_Public_Key_e function."
   ]
  },
  {
   "cell_type": "code",
   "execution_count": 24,
   "metadata": {},
   "outputs": [
    {
     "name": "stdout",
     "output_type": "stream",
     "text": [
      "n = 4897 , e = 3\n"
     ]
    }
   ],
   "source": [
    "n, e = Find_Public_Key_e(p, q)\n",
    "print(\"n =\", n, \",\", \"e =\", e)"
   ]
  },
  {
   "cell_type": "markdown",
   "metadata": {},
   "source": [
    "Now that we know the public keys n and e, we can use these values and the Encode function to encode our message."
   ]
  },
  {
   "cell_type": "code",
   "execution_count": 27,
   "metadata": {},
   "outputs": [],
   "source": [
    "message = \"Here is the key to the RSA project: https://bit.ly/3bFItZU\"\n",
    "encoded_message = Encode(n, e, message)"
   ]
  },
  {
   "cell_type": "markdown",
   "metadata": {},
   "source": [
    "The Encode function goes through each character in the string, message, converts it to its ASCII equivalent, appends those items to a list, and then returns those ASCII values as a list. The following step is not necessary in encryption, but is useful to see the output of the Encode function."
   ]
  },
  {
   "cell_type": "code",
   "execution_count": 29,
   "metadata": {},
   "outputs": [
    {
     "name": "stdout",
     "output_type": "stream",
     "text": [
      "[1076, 1931, 2650, 1931, 3386, 1933, 2805, 3386, 3650, 3451, 1931, 3386, 793, 1931, 3744, 3386, 3650, 1368, 3386, 3650, 3451, 1931, 3386, 2904, 3735, 393, 3386, 4386, 2650, 1368, 1045, 1931, 693, 3650, 4129, 3386, 3451, 3650, 3650, 4386, 2805, 4129, 986, 986, 968, 1933, 3650, 4293, 1183, 3744, 986, 432, 968, 210, 2154, 3650, 4244, 2000]\n"
     ]
    }
   ],
   "source": [
    "print(encoded_message)"
   ]
  },
  {
   "cell_type": "markdown",
   "metadata": {},
   "source": [
    "Now we've created outr encoded message and it is ready to be sent! However, in order for the sender to decode the message, the sender needs to find their private key, d. We can accomplish this using the values of e, p, q, and the Find_Private_Key_d function."
   ]
  },
  {
   "cell_type": "code",
   "execution_count": 31,
   "metadata": {},
   "outputs": [
    {
     "name": "stdout",
     "output_type": "stream",
     "text": [
      "3171\n"
     ]
    }
   ],
   "source": [
    "d = Find_Private_Key_d(e, p, q)\n",
    "print(d)"
   ]
  },
  {
   "cell_type": "markdown",
   "metadata": {},
   "source": [
    "We now have everything we need to decode our message! This will be accomplished using our Decode function. In order to decode, we need to input the values of n and d, and the encoded message."
   ]
  },
  {
   "cell_type": "code",
   "execution_count": 32,
   "metadata": {},
   "outputs": [],
   "source": [
    "decoded_message = Decode(n, d, encoded_message)"
   ]
  },
  {
   "cell_type": "markdown",
   "metadata": {},
   "source": [
    "Now we can print the decoded message!"
   ]
  },
  {
   "cell_type": "code",
   "execution_count": 34,
   "metadata": {},
   "outputs": [
    {
     "name": "stdout",
     "output_type": "stream",
     "text": [
      "Here is the key to the RSA project: https://bit.ly/3bFItZU\n"
     ]
    }
   ],
   "source": [
    "print(decoded_message)"
   ]
  },
  {
   "cell_type": "markdown",
   "metadata": {},
   "source": [
    "This was the original message, so we know that all of our code worked!\n",
    "(If you click the link, you will be Rickrolled! See https://en.wikipedia.org/wiki/Rickrolling for what Rickrolling is if you don't know.)\n",
    "\n",
    "But how does it work in reverse? What if we start with an encoded message, and want to encode a reply? Simple. First, take an encoded message. We'll take one posted by a fellow student in Piazza."
   ]
  },
  {
   "cell_type": "code",
   "execution_count": 37,
   "metadata": {},
   "outputs": [],
   "source": [
    "encoded_piazza_message = [25463, 2136, 27427, 32768, 34537, 13902, 40606, 2136, 25903, 32768, 23033, 38767, 28099, 32768, 25903, 23587, 7692, 7692, 33653, 28099, 32768, 40606, 2136, 3352, 32768, 24397, 38767, 32768, 15178, 33653, 13902, 33653, 27598, 28099, 40606, 24397, 33653, 32768, 24397, 3635, 33653, 32768, 33653, 2136, 3352, 32768, 38767, 23033, 32768, 24397, 3635, 36396, 25903, 32768, 25903, 33653, 7692, 33653, 25903, 24397, 33653, 28099, 885, 32768, 15274, 32768, 28099, 33653, 40606, 13902, 13902, 27427, 32768, 24079, 36396, 25903, 3635, 32768, 24397, 38767, 32768, 24397, 28099, 40606, 23479, 33653, 13902, 32768, 36396, 2136, 24397, 33653, 28099, 2136, 40606, 24397, 36396, 38767, 2136, 40606, 13902, 13902, 27427, 32768, 40606, 13025, 40606, 36396, 2136, 35937]"
   ]
  },
  {
   "cell_type": "markdown",
   "metadata": {},
   "source": [
    "In Piazza, all values needed are given, so we can set the values accordingly."
   ]
  },
  {
   "cell_type": "code",
   "execution_count": 38,
   "metadata": {},
   "outputs": [],
   "source": [
    "n, e, d = 41527, 3, 27387"
   ]
  },
  {
   "cell_type": "markdown",
   "metadata": {},
   "source": [
    "In order to decode the message, we need use the decode function we used before."
   ]
  },
  {
   "cell_type": "code",
   "execution_count": 39,
   "metadata": {},
   "outputs": [
    {
     "name": "stdout",
     "output_type": "stream",
     "text": [
      "Any plans for summer and to celebrate the end of this semester? I really wish to travel internationally again!\n"
     ]
    }
   ],
   "source": [
    "decoded_piazza_message = Decode(n, d, encoded_piazza_message)\n",
    "print(decoded_piazza_message)"
   ]
  },
  {
   "cell_type": "markdown",
   "metadata": {},
   "source": [
    "Now we have selected two relatively prime numbers and used the functions we have written and these numbers to calculate n, find our public key e, our private key d, to encode our own message, decode it, and to decode someone else's message from Piazza. Although commercial-level RSA uses much bigger prime numbers, the fundamental process of encryption is the same as the basic version we have gone through in this project."
   ]
  },
  {
   "cell_type": "markdown",
   "metadata": {},
   "source": [
    "If you create a custom main function or a script to read codes as your CUSTOM FEATURE, you may include it here with a large heading CUSTOM FEATURE:"
   ]
  },
  {
   "cell_type": "code",
   "execution_count": null,
   "metadata": {},
   "outputs": [],
   "source": []
  },
  {
   "cell_type": "markdown",
   "metadata": {},
   "source": [
    "### 5. **Insert Narrative (ONE OR TWO pages) here in this block. **\n",
    "\n",
    "* Describe the results of SPECIFIC exchanging keys and codes with classmates. (at least 3 complete examples).\n",
    "\n",
    "* What was challenging? \n",
    "\n",
    "* Who helped you with your project? \n",
    "\n",
    "* Which resources were most helpful?\n",
    "\n",
    "* What was your Best Mistake, (funniest? most frustrating? the one you learned the most from?)\n",
    "\n",
    "* Again, be sure to include results and a discussion of specific exchanges with others.\n",
    "\n",
    "\n",
    "\n"
   ]
  },
  {
   "cell_type": "markdown",
   "metadata": {},
   "source": [
    "For all Piazza exchanges we are given n, e, d, and a message to decode. These will be shown in consecutive code blocks below, using the following format:\n",
    "- Author of Piazza post\n",
    "- Keys needed to decrypt message and reply\n",
    "- Original encoded message\n",
    "- Decoded message\n",
    "- Reply before encoding\n",
    "- Reply after encoding"
   ]
  },
  {
   "cell_type": "markdown",
   "metadata": {},
   "source": [
    "Example 1:"
   ]
  },
  {
   "cell_type": "code",
   "execution_count": 45,
   "metadata": {},
   "outputs": [
    {
     "name": "stdout",
     "output_type": "stream",
     "text": [
      "Once we can all travel again, where would you like to go visit the most?\n"
     ]
    }
   ],
   "source": [
    "#Author: Alex Dowdell\n",
    "n, e, d = 9797, 7, 2743\n",
    "alex_message = [4974, 9305, 6336, 2222, 3675, 3179, 2222, 3675, 6336, 5432, 9305, 3675, 5432, 1908, 1908, 3675, 8785, 7721, 5432, 9710, 2222, 1908, 3675, 5432, 1643, 5432, 4668, 9305, 6496, 3675, 3179, 1177, 2222, 7721, 2222, 3675, 3179, 7969, 8564, 1908, 6261, 3675, 7911, 7969, 8564, 3675, 1908, 4668, 2792, 2222, 3675, 8785, 7969, 3675, 1643, 7969, 3675, 9710, 4668, 1622, 4668, 8785, 3675, 8785, 1177, 2222, 3675, 493, 7969, 1622, 8785, 4604]\n",
    "alex_decode = Decode(n, d, alex_message)\n",
    "print(alex_decode)"
   ]
  },
  {
   "cell_type": "code",
   "execution_count": 46,
   "metadata": {},
   "outputs": [
    {
     "name": "stdout",
     "output_type": "stream",
     "text": [
      "[3900, 4668, 8785, 1177, 2222, 7721, 3675, 8785, 7969, 3675, 8785, 1177, 2222, 3675, 4075, 2222, 5432, 6336, 1177, 3675, 7969, 7721, 3675, 8785, 7969, 3675, 8785, 1177, 2222, 3675, 493, 7969, 8564, 9305, 8785, 5432, 4668, 9305, 1622, 3833]\n"
     ]
    }
   ],
   "source": [
    "russ_reply = \"Either to the beach or to the mountains!\"\n",
    "russ_encode = Encode(n, e, russ_reply)\n",
    "print(russ_encode)                      #printed just to show what message looks like in encoded form"
   ]
  },
  {
   "cell_type": "markdown",
   "metadata": {},
   "source": [
    "Example 2:"
   ]
  },
  {
   "cell_type": "code",
   "execution_count": 47,
   "metadata": {},
   "outputs": [
    {
     "name": "stdout",
     "output_type": "stream",
     "text": [
      "Who else is ready for Summer weather?\n"
     ]
    }
   ],
   "source": [
    "#Author: Connor Monk\n",
    "n, e, d = 15707, 5, 12365\n",
    "connor_message = [1139, 12480, 2002, 4280, 12763, 10548, 4439, 12763, 4280, 14240, 4439, 4280, 2600, 12763, 9217, 12794, 15705, 4280, 12178, 2002, 2600, 4280, 7769, 5770, 7903, 7903, 12763, 2600, 4280, 1448, 12763, 9217, 469, 12480, 12763, 2600, 5455]\n",
    "connor_decode = Decode(n, d, connor_message)\n",
    "print(connor_decode)"
   ]
  },
  {
   "cell_type": "code",
   "execution_count": 53,
   "metadata": {},
   "outputs": [
    {
     "name": "stdout",
     "output_type": "stream",
     "text": [
      "[14612, 3191, 7903, 4280, 6085, 2002, 469, 4280, 9379, 5770, 14240, 469, 12763, 4280, 2600, 12763, 9217, 12794, 15705, 4280, 12178, 2002, 2600, 4280, 4439, 5770, 7903, 7903, 12763, 2600, 8431, 4280, 2245, 5770, 469, 4280, 14612, 4280, 9217, 7903, 4280, 12794, 12763, 12178, 14240, 6085, 14240, 469, 12763, 10548, 15705, 4280, 2600, 12763, 9217, 12794, 15705, 4280, 12178, 2002, 2600, 4280, 4439, 5762, 2600, 14240, 6085, 909, 9256]\n"
     ]
    }
   ],
   "source": [
    "russ_reply = \"I'm not quite ready for summer, but I am definitely ready for spring!\"\n",
    "russ_encode = Encode(n, e, russ_reply)\n",
    "print(russ_encode)                     #printed just to show what message looks like in encoded form"
   ]
  },
  {
   "cell_type": "markdown",
   "metadata": {},
   "source": [
    "Example 3:"
   ]
  },
  {
   "cell_type": "code",
   "execution_count": 54,
   "metadata": {},
   "outputs": [
    {
     "name": "stdout",
     "output_type": "stream",
     "text": [
      "'Listen. I work for the CIA. I am not a spy. I just read books!' What's your favorite intelligence movie? Mine is 3 Days of the Condor.\n"
     ]
    }
   ],
   "source": [
    "#Author: Emily Carpenter\n",
    "n, e, d = 7663, 959, 1343\n",
    "emily_message = [587, 5298, 6099, 4780, 628, 5990, 7581, 3802, 3101, 1071, 3101, 5022, 4760, 4405, 6373, 3101, 3531, 4760, 4405, 3101, 628, 3312, 5990, 3101, 4116, 1071, 7569, 3802, 3101, 1071, 3101, 2037, 2417, 3101, 7581, 4760, 628, 3101, 2037, 3101, 4780, 4572, 1742, 3802, 3101, 1071, 3101, 1218, 1489, 4780, 628, 3101, 4405, 5990, 2037, 259, 3101, 2620, 4760, 4760, 6373, 4780, 2281, 587, 3101, 3133, 3312, 2037, 628, 587, 4780, 3101, 1742, 4760, 1489, 4405, 3101, 3531, 2037, 1298, 4760, 4405, 6099, 628, 5990, 3101, 6099, 7581, 628, 5990, 4224, 4224, 6099, 372, 5990, 7581, 2183, 5990, 3101, 2417, 4760, 1298, 6099, 5990, 7158, 3101, 3167, 6099, 7581, 5990, 3101, 6099, 4780, 3101, 4055, 3101, 5054, 2037, 1742, 4780, 3101, 4760, 3531, 3101, 628, 3312, 5990, 3101, 4116, 4760, 7581, 259, 4760, 4405, 3802]\n",
    "emily_decode = Decode(n, d, emily_message)\n",
    "print(emily_decode)"
   ]
  },
  {
   "cell_type": "code",
   "execution_count": 57,
   "metadata": {},
   "outputs": [
    {
     "name": "stdout",
     "output_type": "stream",
     "text": [
      "[3038, 4760, 5022, 3101, 2037, 2620, 4760, 1489, 628, 3101, 4760, 7581, 5990, 3101, 2183, 4760, 2417, 5990, 259, 1742, 3101, 2037, 7581, 259, 3101, 4760, 7581, 5990, 3101, 259, 4405, 2037, 2417, 2037, 2705, 3101, 2620, 4760, 628, 3312, 3101, 5022, 4760, 4405, 628, 3312, 3101, 5022, 2037, 628, 2183, 3312, 6099, 7581, 372, 2032, 3101, 2895, 4760, 4572, 3101, 4552, 5990, 2183, 4405, 5990, 628, 2281, 3101, 2037, 7581, 259, 3101, 4099, 4405, 6099, 259, 372, 5990, 3101, 4760, 3531, 3101, 4552, 4572, 6099, 5990, 4780, 3802]\n"
     ]
    }
   ],
   "source": [
    "russ_reply = \"How about one comedy and one drama, both worth watching: Top Secret! and Bridge of Spies.\"\n",
    "russ_encode = Encode(n, e, russ_reply)\n",
    "print(russ_encode)                     #printed just to show what message looks like in encoded form"
   ]
  },
  {
   "cell_type": "markdown",
   "metadata": {},
   "source": [
    "What was challenging? For the xchanging part it was pretty straight forward. If you know the keys the only thing you need to make sure works is the functions. Mine worked, so it was pretty straightforward. (I did run into one problem, but that will be addressed in a later question.)\n",
    "\n",
    "Who helped you with your project? I did the project on my own. Altough I guess in order to get full credit I had to decode messages on Piazza and include those messages here, so in that sense the people whose messages I decoded (Alex, Connor, and Emily) helped me.\n",
    "\n",
    "Which resources were most helpful? Sriram's videos 1000%. There is no way I could have done this without those videos. His algorithms and his explanations of how they worked were what made the coding part of this as straightforward as it was.\n",
    "\n",
    "What was your Best Mistake? When I was first encoding and decoding messages, I hard coded the FME part (I did not call the function, just calculated the exponents). This worked fine when the values were small, but then I went to decode a message and 45 minutes later it was still decoding. I thought, \"There has to be a faster way to do this!\" Then I looked at the code to see what I was doing, and realized it was the slow form of FME. It was then I realized that I had not used FME up until that point, and that calling FME might be a good idea! After that, everything worked just fine. And a lot quicker!"
   ]
  },
  {
   "cell_type": "markdown",
   "metadata": {},
   "source": [
    "### 6. FME Exploration - (CODE INTERVIEW type question)\n",
    "\n",
    "\n",
    "\n",
    "* Explain in detail (give an example) why RSA needs to use an FME function and cannot just simply use the Python Mod function % .\n",
    "\n",
    "* You may use your arguments from the Number theory Mastery Workbook.\n",
    "\n",
    "* You may wish to use an example from code breaking.\n"
   ]
  },
  {
   "cell_type": "markdown",
   "metadata": {},
   "source": [
    "This ties back in to my \"Best Mistake.\" I tried to just brute force encoding and decoding the messages with the following code:"
   ]
  },
  {
   "cell_type": "code",
   "execution_count": 59,
   "metadata": {},
   "outputs": [],
   "source": [
    "def pseudo_encode(n, e, message):                           #we won't call this function at all, but I want to define it like we will\n",
    "    cipher_text=[]\n",
    "    num_list = Convert_Text(message)\n",
    "    for item in num_list:\n",
    "    #iterates through list of characters and converts them to numbers\n",
    "        item = (item**e) % n\n",
    "        cipher_text.append(item)\n",
    "    return cipher_text\n",
    "\n",
    "def psuedo_decode(n, d, cipher_text):\n",
    "    new_list = []\n",
    "    for item in cipher_text:\n",
    "        item = (item**d) % n\n",
    "        new_list.append(item)\n",
    "    return(Convert_Num(new_list))"
   ]
  },
  {
   "cell_type": "markdown",
   "metadata": {},
   "source": [
    "This worked fine for smaller values, but once the values grew to around five or six digits, my computer took forever to process them. Finally, after 45 minutes of trying, my computer still hadn't decoded one message. That was when I finally realized I was doing something wrong and that I hadn't implemented FME. For a more detailed explanation of what I tested, I'll go to my answer from the Number Theory MW:\n",
    "\n",
    "After reading the posts on Piazza I started with an exponent in the 10,000s and FakeFME still finished rather quickly. Then I read Beth’s post on trying larger exponents. So I went all in and tried 5 ^ 20481091823 % 17. After 45 minutes FakeFME still had not finished. I then ran the same numbers using FME. I got the result (7) in 0.3125 seconds. I ran it a second time and got the result the same result. I know I went to the extreme first, and I knew it would be faster, but I didn’t think it would finish instantly.\n",
    "\n",
    "For more traditional testing, I gradually increased the exponents and got the following runtimes:\n",
    "\n",
    "exponent\tFakeFME\tfme\n",
    "1000\t.003125\t.003125\n",
    "10000\t.003125\t.003125\n",
    "100000\t.003125\t.003125\n",
    "1000000\t.21875\t.003125\n",
    "10000000\t5.65625\t.003125\n",
    "100000000\t215.453125\t.003125\n",
    "\n",
    "Somewhere between the powers of 100000 and 1000000 fme becomes faster than FakeFME. When the exponent hits 10000000 fme is over 1800 times faster. But when the exponent increases to 100000000, fme is 68945 times faster than FakeFME!!! What’s even more amazing is the exponent I mentioned in the beginning of this, 20481091823 was still calculated using fme in the same amount of time it took to calculate a four-digit exponent. I can’t quantify how much fast fme was because, after 45 minutes, I chose not to let FakeFME finish.\n"
   ]
  },
  {
   "cell_type": "markdown",
   "metadata": {},
   "source": [
    "## CODE BREAKING ##\n",
    "\n",
    "This section of the project is only available to students exchanging codes by the Friday (midnight) before the project is due.\n",
    "\n",
    "After you have tested your RSA package yourself, and tested it with classmates by publishing both the private and public keys on Piazza, post 2 messages with just the public keys for people to break on the \"Just Public Keys\" thread - use both very small n ‘s (under 1000) for practice, and some with a challenge.\n",
    "\n",
    "\n",
    "**Implementing a factoring algorithm:**\n",
    "\n",
    "Begin by coding the basic brute force factorization algorithm given in pseudocode below.\n",
    "\n",
    "Brute Force Factoring\n",
    "<pre><code>def factorize(n):\n",
    "    # n is a number, return the smallest factor of n\n",
    "    for i from 2 to n-1:\n",
    "        if i divides n:\n",
    "            return i\n",
    "        return FALSE\n",
    "        </code></pre>\n"
   ]
  },
  {
   "cell_type": "markdown",
   "metadata": {},
   "source": [
    "### 7. Do the following for full credit in number 7\n",
    "* To break others’ code you just need to factor n (public key). **Explain how and why code breaking works in a text block.**\n",
    "\n",
    "* Demonstrate 1 example of breaking a code with a small n, and show the steps involved.\n",
    "\n",
    "* Now attempt codes with larger n\n",
    "\n",
    "* Describe your attempt to break codes with large n. At what values would you say n's get difficult? (too large to factor)\n",
    "\n",
    "* Show COMPLETELY at least 3 codes you broke and/or codes of your that were broken.\n",
    "\n",
    "\n",
    "\n"
   ]
  },
  {
   "cell_type": "markdown",
   "metadata": {},
   "source": [
    "\n",
    "\n",
    "\n"
   ]
  },
  {
   "cell_type": "markdown",
   "metadata": {},
   "source": [
    "\n",
    "## Custom Feature ##\n",
    "The last 15 points of the require a custom feature in your project. This is an opportinity for you to explore an RSA or coding topic of interest to you. At this point it is not about points, but exploring advanced ideas relevant to you.  This is also a feature that should be relevant to your programming ability. If you are in 1300, creating a main type function may be enough. If you are an experienced programmer, find a topic to push yourself. \n",
    "\n",
    "\n",
    "Custom Features could one or more of the following:\n",
    "\n",
    "1. A Python \"main\" function that allows a user to \"Get keys/Encode/Decode/Break Codes\" etc... \n",
    "2. An exploration of factoring improvements and analyze how effective they are. Must include some kind of timing analysis and multiple code breaking. A superficial treatment will not recieve full points. Must be throughly tested with excellent investigations to recieve full points.\n",
    "3. A script to read codes from Piazza data. You can copy and paste codes from Piazza into a txt files and then have your script read it. This is a VERY helpful tool for doing the project as well. \n",
    "4. Exploration of advanced factoring alogrithms (see Moodle) Try Pollard's Rho <- super satisfying. (full points if well - impemented with thoughtful examples)\n",
    "5. Advanced complexity analysis. \n",
    "6. Other options available, please ask. \n",
    "\n",
    "The Custom Feature is an important part of the project, and it should be a non-trivial response. \n",
    "Please help organize your Custom Feature by breaking it up into sections - ie. not one long block of text.\n",
    "Mininimally executed, \"dialling it in\" type features will not recieve full points. \n",
    "See below for more detials on grading of this section.\n",
    "\n",
    "\n",
    "\n",
    " \n",
    "\n",
    "\n"
   ]
  },
  {
   "cell_type": "code",
   "execution_count": null,
   "metadata": {},
   "outputs": [],
   "source": []
  },
  {
   "cell_type": "markdown",
   "metadata": {},
   "source": [
    "**Please use the grading guide below to self grade your Custom Feature.**\n",
    "\n",
    "GRADING FOR CUSTOM FEATURE:\n",
    "\n",
    "15 pts  Wow.  It is amazing.\n",
    "        Shows initiative and originality. \n",
    "        You did something extra special and pushed yourself.\n",
    "        You went beyond all expectations \n",
    "        You broke the rules in a creative way. \n",
    "        Your coding and commenting is exceptional.\n",
    "        Excellent \n",
    "\n",
    "10 - 14 points - It is GOOD! \n",
    "        You were a “self starter”. \n",
    "         You did everything  requested. \n",
    "        All expectations met. \n",
    "       \tYou did a very good job. \n",
    "        Good use of commenting.\n",
    "        Shows mastery of skills.\n",
    "\n",
    "5 -10 points  - Okay.\n",
    "        Minimum requirements.\n",
    "        Commenting weak.\n",
    "\n",
    "0 -5 points - It is not finished. \n",
    "          Does meet objectives. \n",
    "            Did not follow directions. \n",
    "            Choose not to do this part (which is a totally fine choice)\n"
   ]
  },
  {
   "cell_type": "markdown",
   "metadata": {},
   "source": [
    "## Self grading of custom feature ##\n",
    "\n",
    "Here in this block\n",
    "\n",
    "Please rate what score out of 15 your custom feature merits given the criteria above:\n",
    "\n",
    "* For example, if you are brand new to programming, using a main function could be an amazing feature - tell me how this helped you move to a new level.\n",
    "* In what ways did YOU push yourself? Did you try something you've never done before?\n",
    "* Alternatively, if you just did not have the time to do the custum feature, that is actually just fine and a reasonable choice for an adult. No judgment."
   ]
  },
  {
   "cell_type": "markdown",
   "metadata": {},
   "source": [
    "## Grading Notes ##\n",
    "\n",
    "*The project will consist of a combination of text and code blocks.\n",
    "\n",
    "*Grading - all code must be well commented. These should be easy to read. Here is a simple guide: https://developers.google.com/tech-writing/two/code-comments\n",
    " \n",
    "*The narrative elements of the project are just as important as the coding.\n",
    "\n",
    "*Do NOT copy code from the internet (or anywhere)\n",
    "\n",
    "*Do not ask questions on stackoverflow or similar etc…\n",
    "\n",
    "*You are expected to have read the honesty notes in the syllabus.\n",
    "\n",
    "*Credit sources you used for additional understanding.\n",
    "\n",
    "*Credit classmates that helped you.\n",
    "\n"
   ]
  },
  {
   "cell_type": "code",
   "execution_count": null,
   "metadata": {},
   "outputs": [],
   "source": []
  }
 ],
 "metadata": {
  "kernelspec": {
   "display_name": "Python 3",
   "language": "python",
   "name": "python3"
  },
  "language_info": {
   "codemirror_mode": {
    "name": "ipython",
    "version": 3
   },
   "file_extension": ".py",
   "mimetype": "text/x-python",
   "name": "python",
   "nbconvert_exporter": "python",
   "pygments_lexer": "ipython3",
   "version": "3.8.6"
  }
 },
 "nbformat": 4,
 "nbformat_minor": 4
}
